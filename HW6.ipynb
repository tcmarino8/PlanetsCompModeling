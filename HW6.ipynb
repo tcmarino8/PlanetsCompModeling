{
 "cells": [
  {
   "cell_type": "code",
   "execution_count": 3,
   "metadata": {},
   "outputs": [],
   "source": [
    "import numpy as np\n",
    "import matplotlib.pyplot as plt"
   ]
  },
  {
   "cell_type": "code",
   "execution_count": 100,
   "metadata": {},
   "outputs": [],
   "source": [
    "#note, this function expects a matrix A[ix,iy] \n",
    "#and then displays so that A[:,0] is the lowest row of pixels\n",
    "def display(A):\n",
    "    maxX = A.shape[0]\n",
    "    maxY = A.shape[1]\n",
    "    B = np.zeros((maxY, maxX))\n",
    "    for ix in range(0,maxX):\n",
    "        for iy in range(0,maxY):\n",
    "            B[maxY-1-iy,ix] = A[ix,iy]\n",
    "\n",
    "    #Display the graphics outside of the notebook. \n",
    "    #On a PC, use '%matplotlib qt' instead.\n",
    "    %matplotlib qt \n",
    "    \n",
    "    plt.rcParams['figure.figsize'] = [6, 6/maxX*maxY]\n",
    "    plt.imshow(B); \n",
    "    plt.axis('off'); \n",
    "    plt.show()\n",
    "    plt.draw()\n",
    "    plt.pause(0.01)"
   ]
  },
  {
   "cell_type": "code",
   "execution_count": 5,
   "metadata": {},
   "outputs": [],
   "source": [
    "nParticles = 10000\n",
    "maxX = 200 + 5*6\n",
    "maxY = 40\n",
    "grid = np.zeros((maxX, maxY))\n",
    "grid[:,0] = 1\n",
    "grid[:, maxY-1] = 1\n",
    "yStart = 19\n",
    "xStart = maxX - 1"
   ]
  },
  {
   "cell_type": "code",
   "execution_count": 32,
   "metadata": {},
   "outputs": [
    {
     "name": "stdout",
     "output_type": "stream",
     "text": [
      "The probability that they will make it without sticking to the edges of the pipe is: 0.5592\n"
     ]
    }
   ],
   "source": [
    "#Lets get it to work then we can make it a fxn so we can call it repeatedly.\n",
    "grid[xStart,yStart] = 1\n",
    "nParticles = 5000\n",
    "made_it = 0\n",
    "maxX = 200 + 5*6\n",
    "maxY = 40\n",
    "grid_ended = np.zeros((maxX, maxY))\n",
    "for i in range(nParticles):\n",
    "    \n",
    "    grid = np.zeros((maxX, maxY))\n",
    "    grid[:,0] = 1\n",
    "    grid[:, maxY-1] = 1\n",
    "    yStart = 19\n",
    "    xStart = maxX - 1\n",
    "    x = xStart\n",
    "    y = yStart\n",
    "    grid[x,y] = 1\n",
    "\n",
    "    while True:\n",
    "        xOrg = x\n",
    "        yOrg = y\n",
    "\n",
    "        r = np.random.random()\n",
    "\n",
    "        #decide the direction of the particle\n",
    "        if r < .50:\n",
    "            x = (x - 1)\n",
    "            right = True\n",
    "        elif r < .60:\n",
    "            x = (x + 1)\n",
    "            left = True\n",
    "        elif r < .80:\n",
    "            y = y+1\n",
    "            up = True\n",
    "        else:\n",
    "            down = True\n",
    "            y = y-1\n",
    "\n",
    "        #Issur if the x goes to farther than the start line\n",
    "        if (x == maxX):\n",
    "            x = xOrg\n",
    "            continue\n",
    "\n",
    "        # if (grid[x,y] == 1 or x > maxX): \n",
    "        #     x = xOrg\n",
    "        #     y = yOrg\n",
    "        #     continue\n",
    "\n",
    "        #Decide the neighbors\n",
    "        xp = (x + 1) % maxX\n",
    "        xm = (x - 1) % maxX\n",
    "        yp = y+1\n",
    "        ym = y-1\n",
    "\n",
    "        #If it makes it to the finish line\n",
    "        if (x == 0):\n",
    "            #print('This particle made it across')\n",
    "            made_it = made_it + 1\n",
    "            grid_ended[x, y] += 1\n",
    "            break\n",
    "\n",
    "        #If it hits and sticks to a wall\n",
    "        if (yp == 39 or ym == 0):\n",
    "            grid_ended[xOrg, yOrg] += 1\n",
    "            break\n",
    "\n",
    "\n",
    "\n",
    "    #     if (grid[x, ym] == 1 or grid[xm, y] == 1 or grid[x, yp] == 1 or grid[xp, y]):\n",
    "    #         #print('It took!')\n",
    "    #         grid[x,y] = 1\n",
    "    #         xStart = x\n",
    "    #         yStart = y\n",
    "            \n",
    "    #         continue\n",
    "\n",
    "    # if (xStart-1 == 0): \n",
    "    #     print(f'Structures reached x limit after only {i} particles')\n",
    "    #     break\n",
    "print('The probability that they will make it without sticking to the edges of the pipe is:', made_it/5000)\n",
    "#display(grid)\n",
    "grid_ended = grid_ended/100\n",
    "grid_ended[: , 0] = 1\n",
    "grid_ended[: , maxY-1] = 1\n",
    "display(grid_ended)\n",
    "\n",
    "\n",
    "    "
   ]
  },
  {
   "cell_type": "code",
   "execution_count": 109,
   "metadata": {},
   "outputs": [],
   "source": [
    "def get_prob(resulting_grid, nParticles, base_grid):\n",
    "    made_it = 0\n",
    "    maxX = 200 + 5*6\n",
    "    maxY = 40\n",
    "    for i in range(nParticles):\n",
    "    \n",
    "        grid0 = base_grid.copy()\n",
    "        yStart = 19\n",
    "        xStart = maxX - 1\n",
    "        x = xStart\n",
    "        y = yStart\n",
    "        #grid0[x,y] = 1\n",
    "\n",
    "        while True:\n",
    "            xOrg = x\n",
    "            yOrg = y\n",
    "\n",
    "            r = np.random.random()\n",
    "\n",
    "        #decide the direction of the particle\n",
    "            if r < .50:\n",
    "                x = (x - 1)\n",
    "                right = True\n",
    "            elif r < .60:\n",
    "                x = (x + 1)\n",
    "                left = True\n",
    "            elif r < .80:\n",
    "                y = y+1\n",
    "                up = True\n",
    "            else:\n",
    "                down = True\n",
    "                y = y-1\n",
    "\n",
    "        #Issue if the x goes to farther than the start line\n",
    "            if (x == maxX):\n",
    "                x = xOrg\n",
    "                continue\n",
    "\n",
    "        # if (grid[x,y] == 1 or x > maxX): \n",
    "        #     x = xOrg\n",
    "        #     y = yOrg\n",
    "        #     continue\n",
    "\n",
    "        #Decide the neighbors\n",
    "            xp = (x + 1) % maxX\n",
    "            xm = (x - 1) % maxX\n",
    "            yp = y+1\n",
    "            ym = y-1\n",
    "\n",
    "        #If it makes it to the finish line\n",
    "            if (x == 0):\n",
    "                made_it += 1\n",
    "                resulting_grid[x, y] += 1\n",
    "                break\n",
    "\n",
    "        #If it hits and sticks to a wall\n",
    "            if (yp == 39 or ym == 0):\n",
    "                resulting_grid[xOrg, yOrg] += 1\n",
    "                break\n",
    "        #if it hits anything that it shouldn't, mostly this is for q6,7\n",
    "            # if (grid0[xp, y] == 1 or grid0[xm,y] == 1 or grid0[x, yp] == 1 or grid0[x, ym] == 1):\n",
    "            #     resulting_grid[xOrg, yOrg] += 1\n",
    "            #     break\n",
    "\n",
    "    resulting_grid = resulting_grid\n",
    "    resulting_grid[: , 0] = 1\n",
    "    resulting_grid[: , maxY-1] = 1\n",
    "    return resulting_grid, made_it/nParticles"
   ]
  },
  {
   "cell_type": "code",
   "execution_count": 114,
   "metadata": {},
   "outputs": [],
   "source": [
    "grid_ended = np.zeros((maxX, maxY))\n",
    "grid1 = np.zeros((maxX, maxY))\n",
    "grid1[:,0] = 1\n",
    "grid1[:, maxY-1] = 1\n",
    "percents = []\n",
    "for nParticles in [5000, 6000, 7000, 8000, 9000, 10000]:\n",
    "    percent_tot = 0\n",
    "    for i in range(10):\n",
    "        grid, percent = get_prob(grid_ended, nParticles=nParticles, base_grid=grid1)\n",
    "        grid_ended += grid\n",
    "        percents.append(percent)\n",
    "    percents.append(percent)\n",
    "\n"
   ]
  },
  {
   "cell_type": "code",
   "execution_count": 131,
   "metadata": {},
   "outputs": [],
   "source": [
    "plt.hist(percents, bins = 20)\n",
    "plt.title('percent of particles making it to the end')\n",
    "plt.show()\n",
    "\n"
   ]
  },
  {
   "cell_type": "markdown",
   "metadata": {},
   "source": [
    "Based on the histogram that is produced from our distribution of percent of particles that make it, I will take it that 56.1% of the particles make it across. This comes from the code above where I run the simulation 10 times at each, 5000-10000 particles with incriments of 1000 particles. This results in 60 percent values which show a flattened but roughly normal distribution centered around 56.1%."
   ]
  },
  {
   "cell_type": "code",
   "execution_count": 120,
   "metadata": {},
   "outputs": [],
   "source": [
    "display(grid_ended)\n",
    "plt.imsave('grid5.png', grid_ended)"
   ]
  },
  {
   "cell_type": "markdown",
   "metadata": {},
   "source": [
    "#6, this result shows that these particles have a hard time threading the needle when we have base object 7 in our pipe. The front of the feature gets hit hard while the tail rarely gets hit."
   ]
  },
  {
   "cell_type": "code",
   "execution_count": 92,
   "metadata": {},
   "outputs": [
    {
     "name": "stdout",
     "output_type": "stream",
     "text": [
      "The probability that the particles will make it across in the pipe with feature 7 is roughly: 0.1742\n"
     ]
    }
   ],
   "source": [
    "#my ninth digit is 7\n",
    "\n",
    "def grid67(scaley, scalex):\n",
    "    top_mid_y = 28\n",
    "    bot_mid_y = 12\n",
    "    mid_x = 115\n",
    "    x_dist = 20*scalex\n",
    "    y_dist = 1*scaley\n",
    "    grid2 = np.zeros((maxX, maxY))\n",
    "    grid2[:,0] = 1\n",
    "    grid2[:, maxY-1] = 1\n",
    "    grid2[(mid_x-x_dist): (mid_x+x_dist), (top_mid_y - y_dist):(top_mid_y+y_dist)] = 1\n",
    "    grid2[(mid_x-x_dist): (mid_x+x_dist), (bot_mid_y - y_dist):(bot_mid_y+y_dist)] = 1\n",
    "    return grid2\n",
    "griddy = grid67(1, 2)\n",
    "#display(griddy)\n",
    "\n",
    "\n",
    "grid_ended6 = np.zeros((maxX, maxY))\n",
    "result, prob = get_prob(grid_ended6, nParticles= 5000, base_grid = grid67(1,1))\n",
    "display(result)\n",
    "print('The probability that the particles will make it across in the pipe with feature 7 is roughly:', prob)\n"
   ]
  },
  {
   "cell_type": "markdown",
   "metadata": {},
   "source": [
    "#7, so as the features grow in the y direction, this reduces the probability that the particle will make it, however look at below and see that this transformation of feature7 is not as inhibitive. "
   ]
  },
  {
   "cell_type": "code",
   "execution_count": 93,
   "metadata": {},
   "outputs": [
    {
     "name": "stdout",
     "output_type": "stream",
     "text": [
      "The probability that the particles will make it across in the pipe with feature 7 is roughly: 0.1216\n"
     ]
    }
   ],
   "source": [
    "grid_ended7 = np.zeros((maxX, maxY))\n",
    "result, prob = get_prob(grid_ended7, nParticles= 5000, base_grid = grid67(2,1))\n",
    "display(result)\n",
    "print('The probability that the particles will make it across in the pipe with feature 7 is roughly:', prob)"
   ]
  },
  {
   "cell_type": "markdown",
   "metadata": {},
   "source": [
    "#8, this makes the most challenging for particles to reach the end because they have to thread the needle for a longer duration of steps..."
   ]
  },
  {
   "cell_type": "code",
   "execution_count": 94,
   "metadata": {},
   "outputs": [
    {
     "name": "stdout",
     "output_type": "stream",
     "text": [
      "The probability that the particles will make it across in the pipe with feature 7 is roughly: 0.0824\n"
     ]
    }
   ],
   "source": [
    "grid_ended8 = np.zeros((maxX, maxY))\n",
    "result, prob = get_prob(grid_ended8, nParticles= 5000, base_grid = grid67(1,2))\n",
    "display(result)\n",
    "print('The probability that the particles will make it across in the pipe with feature 7 is roughly:', prob)"
   ]
  }
 ],
 "metadata": {
  "kernelspec": {
   "display_name": "EPSvenv",
   "language": "python",
   "name": "python3"
  },
  "language_info": {
   "codemirror_mode": {
    "name": "ipython",
    "version": 3
   },
   "file_extension": ".py",
   "mimetype": "text/x-python",
   "name": "python",
   "nbconvert_exporter": "python",
   "pygments_lexer": "ipython3",
   "version": "3.11.4"
  },
  "orig_nbformat": 4
 },
 "nbformat": 4,
 "nbformat_minor": 2
}
