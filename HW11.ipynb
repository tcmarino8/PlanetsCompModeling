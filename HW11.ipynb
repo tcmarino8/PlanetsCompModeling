{
 "cells": [
  {
   "cell_type": "code",
   "execution_count": 94,
   "metadata": {},
   "outputs": [],
   "source": [
    "import matplotlib.pyplot as plt\n",
    "import numpy as np\n"
   ]
  },
  {
   "cell_type": "code",
   "execution_count": 134,
   "metadata": {},
   "outputs": [
    {
     "name": "stdout",
     "output_type": "stream",
     "text": [
      "the center of mass for the system is [0.01998002 0.        ]\n",
      "the new center of mass of the system is: [-2.90747557e-18  0.00000000e+00] nearly [0 0]\n",
      "The initial location of the asteroid is [14.14213562 14.14213562]\n"
     ]
    }
   ],
   "source": [
    "#1\n",
    "ms = 10**7\n",
    "mp = 10**4\n",
    "ma = 1\n",
    "G = 1\n",
    "R = 20\n",
    "xs = 0\n",
    "xp = 20\n",
    "rs = np.array([xs, 0])\n",
    "rp = np.array([xp, 0])\n",
    "\n",
    "rcm = (rp*mp + rs*ms)/(mp+ms)\n",
    "print('the center of mass for the system is', rcm)\n",
    "\n",
    "## Now I will need to shift the suns position and the planets position to make the center of mass at the origin\n",
    "\n",
    "rs = rs - rcm\n",
    "rp = rp - rcm\n",
    "#rs = np.array(rs)\n",
    "#rp = np.array(rp)\n",
    "rcm = (rp*mp + rs*ms)/(mp+ms)\n",
    "print('the new center of mass of the system is:', rcm, 'nearly [0 0]')\n",
    "\n",
    "\n",
    "ra = np.array([R*np.cos(np.radians(45)), R*np.sin(np.radians(45))])\n",
    "print('The initial location of the asteroid is', ra)\n",
    "\n",
    "## 2: Calculating the angular velocity\n",
    "\n",
    "mu = (ms*mp)/(ms+mp)\n",
    "w = np.sqrt((G*mp*ms)/(mu*R**3))\n",
    "vs = w * rs[::-1]\n",
    "vp = w * rp[::-1]\n",
    "va = np.array([-w * ra[0], w * ra[1]])\n",
    "\n",
    "ys = np.concatenate([rs, vs])\n",
    "yp = np.concatenate([rp, vp])\n",
    "ya = np.concatenate([ra, va])\n",
    "y_start = np.concatenate((ys, yp, ya))"
   ]
  },
  {
   "cell_type": "code",
   "execution_count": 135,
   "metadata": {},
   "outputs": [],
   "source": [
    "#3\n",
    "def KeplerODE3(t, y):\n",
    "    global mp, ms, G, ma\n",
    "\n",
    "    rs = y[0:2]\n",
    "    vs = y[2:4]\n",
    "    rp = y[4:6]\n",
    "    vp = y[6:8]\n",
    "    ra = y[8:10]\n",
    "    va = y[10:12]\n",
    "\n",
    "    # Interbody Distances\n",
    "    rsp = np.sqrt((rs[0] - rp[0])**2 + (rs[1] - rp[1])**2)\n",
    "    rsa = np.sqrt((rs[0] - ra[0])**2 + (rs[1] - ra[1])**2)\n",
    "    rpa = np.sqrt((rp[0] - ra[0])**2 + (rp[1] - ra[1])**2)\n",
    "\n",
    "    #Sun forces\n",
    "    sdrdt = vs\n",
    "    Fsp = (-G*ms*mp)/(rsp**3) * (rs - rp)\n",
    "    Fsa = (-G*ms*ma)/(rsa**3) * (rs - ra)\n",
    "    ass = (Fsp + Fsa)/ms\n",
    "\n",
    "    sdvdt = ass\n",
    "    sdydt = np.concatenate((sdrdt, sdvdt))\n",
    "\n",
    "    #Planet forces\n",
    "    pdrdt = vp\n",
    "    Fps = (-G*ms*mp)/(rsp**3) * (rp - rs)\n",
    "    Fsa = (-G*mp*ma)/(rpa**3) * (rp - ra)\n",
    "    aps = (Fps + Fsa)/mp\n",
    "\n",
    "    pdvdt = aps\n",
    "    pdydt = np.concatenate((pdrdt, pdvdt))\n",
    "\n",
    "    #Asteroid Forces\n",
    "    adrdt = va\n",
    "    Fas = (-G*ms*ma)/(rsa**3) * (ra - rs)\n",
    "    Fap = (-G*mp*ma)/(rpa**3) * (ra - rp)\n",
    "    aas = (Fas + Fap)/ma\n",
    "\n",
    "    advdt = aas\n",
    "    adydt = np.concatenate((adrdt, advdt))\n",
    "\n",
    "    dydt = np.concatenate((sdydt, pdydt, adydt))\n",
    "    return dydt\n",
    "\n"
   ]
  },
  {
   "cell_type": "code",
   "execution_count": 144,
   "metadata": {},
   "outputs": [
    {
     "name": "stdout",
     "output_type": "stream",
     "text": [
      "0.17762652645532806\n"
     ]
    }
   ],
   "source": [
    "#4\n",
    "n = 100\n",
    "t = 0\n",
    "tmax = int(n/4)\n",
    "P = np.sqrt((4*np.pi**2) * R**3 / (G*(ms+mp)))\n",
    "dt = P/n\n",
    "y = np.copy(y_start)\n",
    "\n",
    "\n",
    "sxt = np.array(y[0])\n",
    "syt = np.array(y[1])\n",
    "\n",
    "pxt = np.array(y[4])\n",
    "pyt = np.array(y[5])\n",
    "\n",
    "axt = np.array(y[8])\n",
    "ayt = np.array(y[9])\n",
    "\n",
    "\n",
    "while t<tmax:\n",
    "    f1 = KeplerODE3(t, y)\n",
    "    f2 = KeplerODE3(t, y + (dt / 2) * f1)\n",
    "    f3 = KeplerODE3(t, y + (dt / 2) * f2)    \n",
    "    f4 = KeplerODE3(t, y + (dt) * f3)\n",
    "    \n",
    "    y = y + (dt / 6) * (f1 + 2*f2 + 2*f3 + f4)\n",
    "\n",
    "    sxt = np.append(sxt, y[0])\n",
    "    syt = np.append(syt, y[1])\n",
    "    \n",
    "    pxt = np.append(pxt, y[4])\n",
    "    pyt = np.append(pyt, y[5])\n",
    "    \n",
    "    axt = np.append(axt, y[8])\n",
    "    ayt = np.append(ayt, y[9])\n",
    "\n",
    "    t = t + dt\n",
    "\n",
    "\n",
    "\n"
   ]
  },
  {
   "cell_type": "code",
   "execution_count": 146,
   "metadata": {},
   "outputs": [
    {
     "data": {
      "image/png": "[encoded data removed]",
      "text/plain": [
       "<Figure size 640x480 with 1 Axes>"
      ]
     },
     "metadata": {},
     "output_type": "display_data"
    }
   ],
   "source": [
    "plt.figure()\n",
    "\n",
    "plt.plot(sxt, syt, 'o', color = 'goldenrod', label = 'Sun')\n",
    "plt.plot(pxt, pyt, 'o', lw = 1.5, markevery = [0, -1], color = 'black', label = 'Planet')\n",
    "plt.plot(pxt, pyt, '-', lw = 1.5, markevery = [0, -1], color = 'black')\n",
    "plt.plot(axt, ayt, '-', lw = 1.5, alpha = 0.2, color = 'black', label = 'Asteroid')\n",
    "\n",
    "plt.xlabel('x')\n",
    "plt.ylabel('y')\n",
    "# plt.xlim(-15,25)\n",
    "# plt.ylim(-5, 25)\n",
    "plt.legend()\n",
    "#plt.gca().set_aspect('equal', adjustable='box')\n",
    "plt.show()"
   ]
  },
  {
   "cell_type": "markdown",
   "metadata": {},
   "source": [
    "4:\n",
    "The suns trajectory appears as a point since it has such a small deviation from the center of mass. This point like image is not accurate as the earth does in theory orbit.\n",
    "\n",
    "In my plot I have the asteroids orbit as a light line that surrounds the line of the planet."
   ]
  },
  {
   "cell_type": "code",
   "execution_count": 152,
   "metadata": {},
   "outputs": [],
   "source": [
    "#5\n",
    "def TransformIntoPlanetFrame(xp,yp,x,y):\n",
    "    phi = np.arctan2(yp,xp)\n",
    "    s = np.sin(phi)\n",
    "    c = np.cos(phi)\n",
    "\n",
    "    A = np.array( [ [c,s] , [-s,c] ] )\n",
    "\n",
    "    r  = np.array([x,y])\n",
    "    rt = A.dot(r) # matrix vector multiplication\n",
    "\n",
    "    xt = rt[0]\n",
    "    yt = rt[1]\n",
    "    \n",
    "    return [xt,yt] #return the transformed coordinates"
   ]
  },
  {
   "cell_type": "code",
   "execution_count": 149,
   "metadata": {},
   "outputs": [],
   "source": [
    "n = 1000\n",
    "t = 0\n",
    "tmax = int(n*20)\n",
    "dt = P/n\n",
    "y = np.copy(y_start)\n",
    "\n",
    "\n",
    "sxt = np.array(y[0])\n",
    "syt = np.array(y[1])\n",
    "\n",
    "pxt = np.array(y[4])\n",
    "pyt = np.array(y[5])\n",
    "\n",
    "axt = np.array(y[8])\n",
    "ayt = np.array(y[9])\n",
    "\n",
    "\n",
    "while t<tmax:\n",
    "    f1 = KeplerODE3(t, y)\n",
    "    f2 = KeplerODE3(t, y + (dt / 2) * f1)\n",
    "    f3 = KeplerODE3(t, y + (dt / 2) * f2)    \n",
    "    f4 = KeplerODE3(t, y + (dt) * f3)\n",
    "    \n",
    "    y = y + (dt / 6) * (f1 + 2*f2 + 2*f3 + f4)\n",
    "\n",
    "    sxt = np.append(sxt, y[0])\n",
    "    syt = np.append(syt, y[1])\n",
    "    \n",
    "    pxt = np.append(pxt, y[4])\n",
    "    pyt = np.append(pyt, y[5])\n",
    "    \n",
    "    axt = np.append(axt, y[8])\n",
    "    ayt = np.append(ayt, y[9])\n",
    "\n",
    "    t = t + dt"
   ]
  },
  {
   "cell_type": "markdown",
   "metadata": {},
   "source": [
    "I still need to keep track of the asteroids position over time with respect to the planet. To do this, I would need to use the fucntion that you created and then each time I update the asteroids coordinates I would need to run the fuction first. Then I would have to deal with plotting it onto a plot. I am not however gonna do so and rather I am going to just submit what I have so far. I tried my best, but couldn't give any more to this assignment unfortunately..."
   ]
  }
 ],
 "metadata": {
  "kernelspec": {
   "display_name": "EPSvenv",
   "language": "python",
   "name": "python3"
  },
  "language_info": {
   "codemirror_mode": {
    "name": "ipython",
    "version": 3
   },
   "file_extension": ".py",
   "mimetype": "text/x-python",
   "name": "python",
   "nbconvert_exporter": "python",
   "pygments_lexer": "ipython3",
   "version": "3.11.4"
  }
 },
 "nbformat": 4,
 "nbformat_minor": 2
}
